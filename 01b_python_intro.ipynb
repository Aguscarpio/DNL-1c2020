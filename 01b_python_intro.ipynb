{
  "nbformat": 4,
  "nbformat_minor": 0,
  "metadata": {
    "colab": {
      "name": "01b_python_intro.ipynb",
      "provenance": [],
      "authorship_tag": "ABX9TyPqEXDDPzoI4XLc/Pod5LBJ",
      "include_colab_link": true
    },
    "kernelspec": {
      "name": "python3",
      "display_name": "Python 3"
    }
  },
  "cells": [
    {
      "cell_type": "markdown",
      "metadata": {
        "id": "view-in-github",
        "colab_type": "text"
      },
      "source": [
        "<a href=\"https://colab.research.google.com/github/jfdoppler/DNL-1c2020/blob/master/01b_python_intro.ipynb\" target=\"_parent\"><img src=\"https://colab.research.google.com/assets/colab-badge.svg\" alt=\"Open In Colab\"/></a>"
      ]
    },
    {
      "cell_type": "markdown",
      "metadata": {
        "id": "9RhU6RLf_qdR",
        "colab_type": "text"
      },
      "source": [
        "## Loops y condicionales\n",
        "\n",
        "Vamos a atacar dos problemas comunes que nos van a aparecer seguido. El primero es definir el procedimiento/cuenta/resultado basado en condiciones lógicas. Por ejemplo, dibujar una flecha hacia la derecha si una función es positiva o hacia la izquierda si es negativa.\n",
        "\n",
        "Este tipo de decisiones se basan en condiciones lógicas, que tienen su propio tipo de variable. Las variables de este tipo, que son el resultado de un condicional, se llaman booleanas (bool) y pueden valer True o False (así, con mayúscula).\n",
        "\n",
        "Los operadores típicos para comparar números son: <, >, ==, !=, >=, <=\n",
        "\n",
        "Atención, para comparar 2 números y decidir si son iguales va doble igual. 1 igual es asignación (le da valor a la variable), doble igual compara.\n"
      ]
    },
    {
      "cell_type": "code",
      "metadata": {
        "id": "rInhcZYKBHNR",
        "colab_type": "code",
        "outputId": "4f952def-7689-410d-c9e3-bcfa94b91b25",
        "colab": {
          "base_uri": "https://localhost:8080/",
          "height": 34
        }
      },
      "source": [
        "lista = [1, 2, 3]\n",
        "res = len(lista) > 1\n",
        "print(res)"
      ],
      "execution_count": 0,
      "outputs": [
        {
          "output_type": "stream",
          "text": [
            "True\n"
          ],
          "name": "stdout"
        }
      ]
    },
    {
      "cell_type": "markdown",
      "metadata": {
        "id": "hFlLEdFtBTNm",
        "colab_type": "text"
      },
      "source": [
        "Y con estas variables podemos operar, aplicando operadores lógicos. En python, los operadores se escriben como se dicen: \"and\", \"or\", \"not\""
      ]
    },
    {
      "cell_type": "code",
      "metadata": {
        "id": "DBahbxAgBdPW",
        "colab_type": "code",
        "outputId": "f3bdfdcf-465b-497f-d4ff-476fe4c13199",
        "colab": {
          "base_uri": "https://localhost:8080/",
          "height": 34
        }
      },
      "source": [
        "res = len(lista) < 4 and len(lista) > 1\n",
        "print(res)"
      ],
      "execution_count": 0,
      "outputs": [
        {
          "output_type": "stream",
          "text": [
            "True\n"
          ],
          "name": "stdout"
        }
      ]
    },
    {
      "cell_type": "markdown",
      "metadata": {
        "id": "e6bORhT2lQAi",
        "colab_type": "text"
      },
      "source": [
        "# If, elif, else\n",
        "Esto nos permite definir pedazos de código que solo se ejecutan si se cumple una condición. Acá empieza a importar la sintaxis.\n",
        "\n",
        "```\n",
        "if condicion_logica:\n",
        "    codigo\n",
        "elif condicion_logica2:\n",
        "    codigo2\n",
        "else:\n",
        "    codigo3\n",
        "```\n",
        "Al final de la condición lógica hay que poner \":\" para indicarle a python que viene el bloque. Lo que queda dentro del bloque (que se ejecuta si se cumple la condición lógica) tiene una indentación de 4 lugares (1 Tab). Python entiende que el bloque (lo que está dentro del if) termina, cuando termina la indentación.\n",
        "\n",
        "El if tiene 2 primos, elif y else. elif nos permite ver si se cumple una segunda condicion lógica, y ejecutar otro pedazo de código. Es importante destacar, que si se cumplió la primera condición, python ni siquiera va a ver si se cumple la segunda.\n",
        "\n",
        "El otro es else, que permite ejecutar un codigo si no se cumplio ninguna de las condiciones anteriores.\n",
        "\n",
        "Prueben cambiando valores a x en la siguiente celda:\n"
      ]
    },
    {
      "cell_type": "code",
      "metadata": {
        "id": "PdigIK0vlQAi",
        "colab_type": "code",
        "outputId": "ddcb0e27-b9f2-40a2-d3a5-bc098a1212ed",
        "colab": {
          "base_uri": "https://localhost:8080/",
          "height": 34
        }
      },
      "source": [
        "x = -1\n",
        "if x < 0:\n",
        "    print('entró al if')\n",
        "elif x < 1:\n",
        "    print('entró al elif')\n",
        "else:\n",
        "    print('terminó en el else')"
      ],
      "execution_count": 0,
      "outputs": [
        {
          "output_type": "stream",
          "text": [
            "entró al if\n"
          ],
          "name": "stdout"
        }
      ]
    },
    {
      "cell_type": "markdown",
      "metadata": {
        "id": "tLbHWBTLEJs9",
        "colab_type": "text"
      },
      "source": [
        "## Ejercicio\n",
        "Escribí una función que devuelva el elemento del medio de una lista si esta tiene longitud impar, o el punto entre los dos del medio si tiene longitud par:\n",
        "\n",
        "Ejemplo: \n",
        "\n",
        "si [0, 4, 7] --> 4\n",
        "\n",
        "si [0, 4, 7, -1] --> (4+7)/2 = 5.5"
      ]
    },
    {
      "cell_type": "code",
      "metadata": {
        "id": "CA2pXtheH7Yj",
        "colab_type": "code",
        "colab": {}
      },
      "source": [
        "def ...(lista):\n",
        "    ...\n",
        "    return valor"
      ],
      "execution_count": 0,
      "outputs": []
    },
    {
      "cell_type": "markdown",
      "metadata": {
        "id": "Z_XYJUpBlQAe",
        "colab_type": "text"
      },
      "source": [
        "## For\n",
        "\n",
        "Ahora atacamos el segundo problema: repetir una misma operación varias veces consecutivas. Para hacerlo tenemos estructuras llamadas loops.\n",
        "\n",
        "El loop *for* es para cuando queremos que una operación se repita un número determinado de veces, o para cada elemento de una lista. Una función que se suele usar en este tipo de loops es *range*.\n",
        "\n",
        "Atentos a la sintaxis y a los espacios! Generalmente vamos a usar loops *for* definidos de dos maneras:\n",
        "\n",
        "```\n",
        "for elemento in lista:\n",
        "    ...do something else...\n",
        "```\n",
        "o\n",
        "```\n",
        "for i in range(numero_de_veces):\n",
        "    ...do something...\n",
        "```\n",
        "En el primer caso vamos a tener una variable llamada *elemento* que, en cada vuelta del loop va a valer lo que valga un elemento de la lista. Por ejemplo, si la lista es:\n",
        "```\n",
        "lista = [0, 2, 3.14]\n",
        "```\n",
        "La primera vez que entre al loop, *elemento* va a valer 0, y va a ejecutar el bloque de código. Luego va a valer 2 y va a ejecutar de nuevo el bloque...\n",
        "\n",
        "En el segundo caso usamos la función **range**, que es casi como si fuera una lista (no lo es, pero no nos preocupemos por eso). Lo que nos permite es darle valores a la variable *i* que van hasta cierto valor. Por ejemplo si ponemos:\n",
        "```\n",
        "for i in range(4):\n",
        "    ...do something...\n",
        "```\n",
        "La variable *i* va a valer primero 0, después 1, 2, y finalmente 3 (llega hasta 1 menos del que le damos a range).\n",
        "\n",
        "El código que se escribe dentro del loop se ejecuta para cada elemento de la lista. Lo que está **dentro** del loop es todo lo que está indentado 4 lugares hacia la derecha. Esto es vital, en Python la indentación es **obligatoria** para definir las estructuras y siempre es de a 4 lugares (1 tab). Noten también los dos puntos en la primera línea!\n",
        "\n"
      ]
    },
    {
      "cell_type": "code",
      "metadata": {
        "id": "RroP_TwUlQAf",
        "colab_type": "code",
        "outputId": "84ec431b-7afe-4367-da75-a1abda2ccb45",
        "colab": {}
      },
      "source": [
        "for i in lista:\n",
        "    print(i)"
      ],
      "execution_count": 0,
      "outputs": [
        {
          "output_type": "stream",
          "text": [
            "1\n",
            "-5\n",
            "0\n"
          ],
          "name": "stdout"
        }
      ]
    },
    {
      "cell_type": "code",
      "metadata": {
        "id": "jdh02ySMzUm1",
        "colab_type": "code",
        "outputId": "fd8f1cd2-a7d4-44ed-e3b1-399a1fab6e1e",
        "colab": {
          "base_uri": "https://localhost:8080/",
          "height": 85
        }
      },
      "source": [
        "for n in range(4):\n",
        "    print(n)"
      ],
      "execution_count": 1,
      "outputs": [
        {
          "output_type": "stream",
          "text": [
            "0\n",
            "1\n",
            "2\n",
            "3\n"
          ],
          "name": "stdout"
        }
      ]
    },
    {
      "cell_type": "code",
      "metadata": {
        "id": "XrwbhOsB0u-7",
        "colab_type": "code",
        "outputId": "ddd227df-4a2a-4231-8079-687c2263500c",
        "colab": {
          "base_uri": "https://localhost:8080/",
          "height": 34
        }
      },
      "source": [
        "# Sumamos los numeros naturales hasta el 10\n",
        "suma = 0\n",
        "for n in range(11):\n",
        "    suma = suma + n\n",
        "print(suma)"
      ],
      "execution_count": 0,
      "outputs": [
        {
          "output_type": "stream",
          "text": [
            "55\n"
          ],
          "name": "stdout"
        }
      ]
    },
    {
      "cell_type": "markdown",
      "metadata": {
        "id": "qNdTlFNrJNVM",
        "colab_type": "text"
      },
      "source": [
        "## Ejercicios\n",
        "1) Calculá la suma de los primeros 10 múltiplos de 7\n",
        "\n",
        "2) Escribí una función que dada una lista como la de abajo, devuelva como resultado su valor mínimo.\n"
      ]
    },
    {
      "cell_type": "code",
      "metadata": {
        "id": "wnkrCkalJwmy",
        "colab_type": "code",
        "outputId": "115f9158-81ab-425e-fde3-6d0239f8616c",
        "colab": {
          "base_uri": "https://localhost:8080/",
          "height": 34
        }
      },
      "source": [
        "lista = [1, 4, 5, 42, 3.141592]\n"
      ],
      "execution_count": 0,
      "outputs": [
        {
          "output_type": "stream",
          "text": [
            "[1, 4, 5, 3.141592653589793, 2.718281828459045, 7.3890560989306495, 3.801965615214975]\n"
          ],
          "name": "stdout"
        }
      ]
    },
    {
      "cell_type": "markdown",
      "metadata": {
        "id": "cDm6YRMglQAk",
        "colab_type": "text"
      },
      "source": [
        "## While\n",
        "Otro tipo de loop es el **while**, que nos permite definir código que se ejecuta (una y otra vez...) mientras una condición se cumpla"
      ]
    },
    {
      "cell_type": "code",
      "metadata": {
        "id": "X6w4yxRelQAl",
        "colab_type": "code",
        "outputId": "2924ef91-b616-4ee4-fff6-7638daeb6c9f",
        "colab": {}
      },
      "source": [
        "n = 0\n",
        "while n < 5:\n",
        "    n += 1\n",
        "print(n)"
      ],
      "execution_count": 0,
      "outputs": [
        {
          "output_type": "stream",
          "text": [
            "5\n"
          ],
          "name": "stdout"
        }
      ]
    },
    {
      "cell_type": "code",
      "metadata": {
        "id": "2LdQlaM9S9IO",
        "colab_type": "code",
        "colab": {}
      },
      "source": [
        "# Ejemplo: escribamos una función que calcule el factorial de un numero:\n",
        "..."
      ],
      "execution_count": 0,
      "outputs": []
    },
    {
      "cell_type": "markdown",
      "metadata": {
        "colab_type": "text",
        "id": "TstciWhIGi-Q"
      },
      "source": [
        "## Ejercicios\n",
        "Escribí funciones que:\n",
        "\n",
        "1) tome una lista y la devuelva pero elevando al cuadrado cada elemento\n",
        "\n",
        "2) tome una lista y devuelva las posiciones de sus mínimos **locales**\n",
        "\n",
        "3) tome una lista y devuelva True si tiene cambios de signo (hay valores consecutivos con signos contrarios), o False, si no."
      ]
    }
  ]
}