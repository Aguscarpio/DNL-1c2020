{
  "nbformat": 4,
  "nbformat_minor": 0,
  "metadata": {
    "anaconda-cloud": {},
    "kernelspec": {
      "display_name": "Python [conda env:anaconda3]",
      "language": "python",
      "name": "conda-env-anaconda3-py"
    },
    "language_info": {
      "codemirror_mode": {
        "name": "ipython",
        "version": 3
      },
      "file_extension": ".py",
      "mimetype": "text/x-python",
      "name": "python",
      "nbconvert_exporter": "python",
      "pygments_lexer": "ipython3",
      "version": "3.5.3"
    },
    "colab": {
      "name": "02_ejercicios_python_intro.ipynb",
      "provenance": [],
      "include_colab_link": true
    }
  },
  "cells": [
    {
      "cell_type": "markdown",
      "metadata": {
        "id": "view-in-github",
        "colab_type": "text"
      },
      "source": [
        "<a href=\"https://colab.research.google.com/github/jfdoppler/DNL_2020/blob/master/02_ejercicios_python_intro.ipynb\" target=\"_parent\"><img src=\"https://colab.research.google.com/assets/colab-badge.svg\" alt=\"Open In Colab\"/></a>"
      ]
    },
    {
      "cell_type": "markdown",
      "metadata": {
        "id": "lJpMB-ZK4aC8",
        "colab_type": "text"
      },
      "source": [
        "## Loops 1\n",
        "\n",
        "Calcule la suma de todos los número naturales entre el 50 y el 100"
      ]
    },
    {
      "cell_type": "code",
      "metadata": {
        "id": "9pxFEUXv4aDF",
        "colab_type": "code",
        "colab": {}
      },
      "source": [
        ""
      ],
      "execution_count": 0,
      "outputs": []
    },
    {
      "cell_type": "markdown",
      "metadata": {
        "id": "7XIpGOXR4aDT",
        "colab_type": "text"
      },
      "source": [
        "## Loops 2\n",
        "Calcule el 9º término de la serie de Fibonacci, definida como:\n",
        "$$\n",
        "a_1 = 1\n",
        "$$\n",
        "$$\n",
        "a_2 = 1\n",
        "$$\n",
        "$$\n",
        "a_{n} = a_{n-1} + a_{n-2}\n",
        "$$\n",
        "\n",
        "Grafica el cociente entre valores consecutivos en función del número de iteración. ¿Qué observás?"
      ]
    },
    {
      "cell_type": "code",
      "metadata": {
        "id": "kDHRZyXiJx66",
        "colab_type": "code",
        "colab": {}
      },
      "source": [
        ""
      ],
      "execution_count": 0,
      "outputs": []
    },
    {
      "cell_type": "markdown",
      "metadata": {
        "id": "kCP6-yJq4aDb",
        "colab_type": "text"
      },
      "source": [
        "## Loops 3\n",
        "\n",
        "Escriba una rutina que imprima los primeros 100 números de [FizzBuzz](https://en.wikipedia.org/wiki/Fizz_buzz)"
      ]
    },
    {
      "cell_type": "code",
      "metadata": {
        "id": "D5KqMtYa4aDd",
        "colab_type": "code",
        "colab": {}
      },
      "source": [
        ""
      ],
      "execution_count": 0,
      "outputs": []
    },
    {
      "cell_type": "markdown",
      "metadata": {
        "id": "TSIghhmR5Drv",
        "colab_type": "text"
      },
      "source": [
        "# Funciones 1\n",
        "Defina una función que calcule el factorial de un número. \n",
        "\n",
        "Haga otra función que reciba como input una *lista* de números y devuelva una lista con sus factoriales."
      ]
    },
    {
      "cell_type": "code",
      "metadata": {
        "id": "TKFE9eIz8kJu",
        "colab_type": "code",
        "colab": {}
      },
      "source": [
        ""
      ],
      "execution_count": 0,
      "outputs": []
    },
    {
      "cell_type": "markdown",
      "metadata": {
        "id": "BMeBWcdW6dPF",
        "colab_type": "text"
      },
      "source": [
        "## Funciones 2\n",
        "Escriba una función que determine si un número es primo o no."
      ]
    },
    {
      "cell_type": "code",
      "metadata": {
        "id": "vWWZgyKd8k7G",
        "colab_type": "code",
        "colab": {}
      },
      "source": [
        ""
      ],
      "execution_count": 0,
      "outputs": []
    },
    {
      "cell_type": "markdown",
      "metadata": {
        "id": "iMmXmTa0H427",
        "colab_type": "text"
      },
      "source": [
        "#Desafío\n",
        "Consideren la transformación lineal definida por la matriz:\n",
        "$$\n",
        "A=\\begin{pmatrix}\n",
        "    0.5 & 1\\\\\n",
        "    -1 & 0.5\n",
        "\\end{pmatrix}\n",
        "$$\n",
        "\n",
        "Graficá el punto $(1,0)$ y los puntos a donde va a para luego de aplicarle la transformación lineal 1, 2 y 3 veces. ¿Qué hace la matriz?\n",
        "\n",
        "Usando meshgrid, definí una grilla de puntos en $(-1, 1)\\times(-1, 1)$. Aplicale la transformación a toda la grilla y graficá el resultado."
      ]
    },
    {
      "cell_type": "markdown",
      "metadata": {
        "id": "MbZXf4SV6ScP",
        "colab_type": "text"
      },
      "source": [
        "## Desafío para el hogar\n",
        "El [juego de la vida](https://es.wikipedia.org/wiki/Juego_de_la_vida) es un autómata celular, que consta de una grilla 2D de \"células\". Cada célula interactúa con sus vecinas y puede estar en dos estados: viva o muerta.\n",
        "\n",
        "Para decidir si una célula está viva o muerta en cada turno, se definen un conjunto de reglas. En su versión original estas son:\n",
        "\n",
        "*   Una célula muerta con exactamente 3 células vecinas vivas \"nace\" (es decir, al turno siguiente estará viva).\n",
        "*   Una célula viva con 2 o 3 células vecinas vivas sigue viva, en otro caso muere (por \"soledad\" o \"superpoblación\").\n",
        "\n",
        "Implemente una versión del juego. Recomendación: vaya de a pasos pequeños."
      ]
    },
    {
      "cell_type": "code",
      "metadata": {
        "id": "WTF4ZPIF8l7n",
        "colab_type": "code",
        "colab": {}
      },
      "source": [
        ""
      ],
      "execution_count": 0,
      "outputs": []
    }
  ]
}